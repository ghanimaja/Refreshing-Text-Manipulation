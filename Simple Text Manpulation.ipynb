{
 "cells": [
  {
   "cell_type": "code",
   "execution_count": 2,
   "metadata": {},
   "outputs": [
    {
     "name": "stdout",
     "output_type": "stream",
     "text": [
      "['1234']\n",
      "['1234', '6721']\n",
      "['1234', '6721', '1233']\n",
      "['1234', '6721', '1233', '6629']\n",
      "['1234', '6721', '1233', '6629', '1111']\n",
      "['1234', '6721', '1233', '6629', '1111', '6726']\n",
      "['1234', '6721', '1233', '6629', '1111', '6726', '11223']\n",
      "['1234', '6721', '1233', '6629', '1111', '6726', '11223', '44677']\n",
      "['1234', '6721', '1233', '6629', '1111', '6726', '11223', '44677', '67269']\n",
      "[1234, 6721, 1233, 6629, 1111, 6726, 11223, 44677, 67269]\n",
      "1234 adalah plat nomor genap\n",
      "6721 adalah plat nomor ganjil\n",
      "1233 adalah plat nomor ganjil\n",
      "6629 adalah plat nomor ganjil\n",
      "1111 adalah plat nomor ganjil\n",
      "6726 adalah plat nomor genap\n",
      "11223 adalah plat nomor ganjil\n",
      "44677 adalah plat nomor ganjil\n",
      "67269 adalah plat nomor ganjil\n"
     ]
    }
   ],
   "source": [
    "#cek ganjil dan genap\n",
    "\n",
    "import re\n",
    "\n",
    "list_plat_mobil = ['B 1234 AB', 'B 6721 TY', 'B 1233 AY', 'B 6629 DD', 'B 1111 AM', 'B 6726 D', 'D 11223 KJ', 'AE 44677 GH', 'AE 67269 AA']\n",
    "list_plat_mobil_tanpa = []\n",
    "\n",
    "for i in list_plat_mobil:\n",
    "    hapusangka = re.sub('\\D', '', i)\n",
    "    list_plat_mobil_tanpa.append(hapusangka)\n",
    "    print(list_plat_mobil_tanpa)\n",
    "\n",
    "list_plat_mobil_tanpa = [int(i) for i in list_plat_mobil_tanpa]\n",
    "print(list_plat_mobil_tanpa)\n",
    "\n",
    "for i in list_plat_mobil_tanpa:\n",
    "    if i%2==0:\n",
    "        print(i,\"adalah plat nomor genap\")\n",
    "    else:\n",
    "        print(i,\"adalah plat nomor ganjil\")\n",
    "\n",
    "    \n",
    "    \n",
    "    \n",
    "    "
   ]
  },
  {
   "cell_type": "code",
   "execution_count": 38,
   "metadata": {},
   "outputs": [
    {
     "name": "stdout",
     "output_type": "stream",
     "text": [
      "g\n",
      "u\n",
      "Karakter pertama adalah g\n",
      "Karakter terakhir adalah u\n"
     ]
    }
   ],
   "source": [
    "#membuat fungsi untuk mengetahui karakter pertama dan karakter terakhir dari suatu string yang diberikan\n",
    "\n",
    "def ceknama(ada,dada):\n",
    "    print(\"Karakter pertama adalah\",ada)\n",
    "    print(\"Karakter terakhir adalah\",dada)\n",
    "\n",
    "nama = []\n",
    "nama.append(\"ghanimkanu\")\n",
    "karakterpertama = nama[0][0]\n",
    "karakterterakhir = nama[0][-1]\n",
    "print(karakterpertama)\n",
    "print(karakterterakhir)\n",
    "ceknama(karakterpertama,karakterterakhir)"
   ]
  },
  {
   "cell_type": "code",
   "execution_count": 41,
   "metadata": {},
   "outputs": [
    {
     "name": "stdout",
     "output_type": "stream",
     "text": [
      "Masukkan angka12\n",
      "Angka yang anda masukkan ketika dibalik: 21\n"
     ]
    }
   ],
   "source": [
    "#reverse integer\n",
    "\n",
    "kata = input(\"Masukkan angka\")\n",
    "dibalik = int(str(kata)[::-1])\n",
    "print(\"Angka yang anda masukkan ketika dibalik:\",dibalik)\n",
    "\n",
    "if kata == dibalik:\n",
    "    print(\"Angka tersebut merupakan palindrome\")\n",
    "else:\n",
    "    print(\"Angka tersebut bukan merupakan palindrome\")"
   ]
  },
  {
   "cell_type": "code",
   "execution_count": 4,
   "metadata": {},
   "outputs": [
    {
     "name": "stdout",
     "output_type": "stream",
     "text": [
      "Masukkan angka awal3\n",
      "Masukkan angka akhir3\n",
      "[6, 8]\n"
     ]
    }
   ],
   "source": [
    "# Python3 program to Find missing\n",
    "\n",
    "awal = int(input(\"Masukkan angka awal\"))\n",
    "akhir = int(input(\"Masukkan angka akhir\"))\n",
    "#arr = list(range(11, 17))\n",
    "\n",
    "arr = [1,2,3,4,5,7,9]\n",
    "missing_elements = []\n",
    "for ele in range(arr[0], arr[-1]+1):\n",
    "    if ele not in arr:\n",
    "        missing_elements.append(ele)\n",
    "print(missing_elements)"
   ]
  },
  {
   "cell_type": "code",
   "execution_count": 6,
   "metadata": {},
   "outputs": [
    {
     "data": {
      "text/plain": [
       "{1, 2}"
      ]
     },
     "execution_count": 6,
     "metadata": {},
     "output_type": "execute_result"
    }
   ],
   "source": [
    "#Cek angka yang dobel\n",
    "\n",
    "l = [1,2,3,4,5,6,2,7,8,1,9]\n",
    "set([x for x in l if l.count(x) > 1])\n"
   ]
  },
  {
   "cell_type": "code",
   "execution_count": null,
   "metadata": {},
   "outputs": [],
   "source": []
  }
 ],
 "metadata": {
  "kernelspec": {
   "display_name": "Python 3",
   "language": "python",
   "name": "python3"
  },
  "language_info": {
   "codemirror_mode": {
    "name": "ipython",
    "version": 3
   },
   "file_extension": ".py",
   "mimetype": "text/x-python",
   "name": "python",
   "nbconvert_exporter": "python",
   "pygments_lexer": "ipython3",
   "version": "3.7.4"
  }
 },
 "nbformat": 4,
 "nbformat_minor": 4
}
